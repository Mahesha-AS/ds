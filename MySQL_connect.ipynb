{
 "cells": [
  {
   "cell_type": "code",
   "execution_count": 29,
   "metadata": {},
   "outputs": [],
   "source": [
    "#pip install mysql-connector\n",
    "#refer https://www.guru99.com/python-mysql-example.html\n",
    "#https://pynative.com/python-mysql-database-connection/\n",
    "#https://www.w3schools.com/python/python_mysql_create_db.asp\n",
    "#https://pynative.com/python-mysql-insert-data-into-database-table/"
   ]
  },
  {
   "cell_type": "code",
   "execution_count": 27,
   "metadata": {},
   "outputs": [
    {
     "name": "stdout",
     "output_type": "stream",
     "text": [
      "<mysql.connector.connection.MySQLConnection object at 0x0000013A8AFC3E10>\n",
      "('information_schema',)\n",
      "('my_first_db',)\n",
      "('mysql',)\n",
      "('performance_schema',)\n",
      "('phpmyadmin',)\n",
      "('test',)\n"
     ]
    }
   ],
   "source": [
    "import mysql.connector\n",
    "db_connection = mysql.connector.connect(\n",
    "  host=\"localhost\",\n",
    "  user=\"root\",\n",
    "  #passwd=\"root\"\n",
    ")\n",
    "print(db_connection)\n",
    "\n",
    "# creating database_cursor to perform SQL operation\n",
    "db_cursor = db_connection.cursor()\n",
    "\n",
    "\n",
    "# executing cursor with execute method and pass SQL query\n",
    "db_cursor.execute(\"CREATE DATABASE my_first_db\")\n",
    "\n",
    "\n",
    "# get list of all databases\n",
    "db_cursor.execute(\"SHOW DATABASES\")\n",
    "#print all databases\n",
    "for db in db_cursor:\n",
    "    print(db)\n"
   ]
  },
  {
   "cell_type": "code",
   "execution_count": 28,
   "metadata": {},
   "outputs": [
    {
     "name": "stdout",
     "output_type": "stream",
     "text": [
      "('student',)\n"
     ]
    }
   ],
   "source": [
    "import mysql.connector\n",
    "db_connection = mysql.connector.connect(\n",
    "    host=\"localhost\",\n",
    "    user=\"root\",\n",
    "    #passwd=\"root\",\n",
    "    database=\"my_first_db\"\n",
    "  )\n",
    "\n",
    "db_cursor = db_connection.cursor()\n",
    "\n",
    "#Here creating database table as student'\n",
    "db_cursor.execute(\"CREATE TABLE student (id INT, name VARCHAR(255))\")\n",
    "\n",
    "#Get database table'\n",
    "db_cursor.execute(\"SHOW TABLES\")\n",
    "for table in db_cursor:\n",
    "    print(table)"
   ]
  },
  {
   "cell_type": "code",
   "execution_count": 1,
   "metadata": {},
   "outputs": [
    {
     "name": "stdout",
     "output_type": "stream",
     "text": [
      "INSERT INTO student(id,name) VALUES(01, 'John')\n",
      "1 Record Inserted\n"
     ]
    }
   ],
   "source": [
    "import mysql.connector\n",
    "db_connection = mysql.connector.connect(\n",
    "    host=\"localhost\",\n",
    "    user=\"root\",\n",
    "    #passwd=\"root\",\n",
    "    database=\"my_first_db\"\n",
    "  )\n",
    "\n",
    "db_cursor = db_connection.cursor()\n",
    "\n",
    "student_sql_query = \"INSERT INTO student(id,name) VALUES(01, 'John')\"\n",
    "#employee_sql_query = \" INSERT INTO employee (id, name, salary) VALUES (01, 'John', 10000)\"\n",
    "\n",
    "print(student_sql_query)\n",
    "\n",
    "#Execute cursor and pass query as well as student data\n",
    "db_cursor.execute(student_sql_query)\n",
    "#Execute cursor and pass query of employee and data of employee\n",
    "#db_cursor.execute(employee_sql_query)\n",
    "\n",
    "db_connection.commit()\n",
    "print(db_cursor.rowcount, \"Record Inserted\")"
   ]
  },
  {
   "cell_type": "code",
   "execution_count": null,
   "metadata": {},
   "outputs": [],
   "source": []
  }
 ],
 "metadata": {
  "kernelspec": {
   "display_name": "Python 3",
   "language": "python",
   "name": "python3"
  },
  "language_info": {
   "codemirror_mode": {
    "name": "ipython",
    "version": 3
   },
   "file_extension": ".py",
   "mimetype": "text/x-python",
   "name": "python",
   "nbconvert_exporter": "python",
   "pygments_lexer": "ipython3",
   "version": "3.6.5"
  }
 },
 "nbformat": 4,
 "nbformat_minor": 2
}
